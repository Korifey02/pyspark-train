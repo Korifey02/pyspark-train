{
 "cells": [
  {
   "cell_type": "code",
   "execution_count": 3,
   "id": "0052088c-f09f-4ee7-88b8-6a2c7f0ae262",
   "metadata": {},
   "outputs": [],
   "source": [
    "import os\n",
    "from pyspark.sql import SparkSession, DataFrame\n",
    "from pyspark import SparkConf\n",
    "from pyspark.sql.functions import (\n",
    "    regexp_replace,\n",
    "    regexp_extract_all,\n",
    "    col,\n",
    "    lit\n",
    ")"
   ]
  },
  {
   "cell_type": "code",
   "execution_count": 6,
   "id": "29752dbd-e64c-4b25-8fa7-6a3a002c7eb0",
   "metadata": {},
   "outputs": [],
   "source": [
    "EXECUTOR_INSTANCES = \"1\"\n",
    "EXECUTOR_CORES = \"2\"\n",
    "DRIVER_CORES = \"1\""
   ]
  },
  {
   "cell_type": "code",
   "execution_count": 11,
   "id": "5c8ffb31-1796-459c-920b-edad1744ea06",
   "metadata": {},
   "outputs": [],
   "source": [
    "def create_spark_configuration() -> SparkConf:\n",
    "    conf = SparkConf()\n",
    "    conf.setAppName(\"SAM-CALC\")\n",
    "    # conf.setMaster(\"yarn\")\n",
    "    conf.set(\"spark.submit.deployMode\", \"client\")\n",
    "    conf.set(\"spark.executor.memory\", \"12g\")\n",
    "    conf.set(\"spark.executor.cores\", EXECUTOR_CORES)\n",
    "    conf.set(\"spark.executor.instances\", EXECUTOR_INSTANCES)\n",
    "    conf.set(\"spark.driver.memory\", \"4g\")\n",
    "    conf.set(\"spark.driver.cores\", DRIVER_CORES)\n",
    "    \n",
    "    # conf.set(\"spark.jars.packages\", \"org.apache.iceberg:iceberg-spark-runtime-3.5_2.12:1.6.0\")\n",
    "    # conf.set(\"spark.sql.extensions\", \"org.apache.iceberg.spark.extensions.IcebergSparkSessionExtensions\")\n",
    "    # conf.set(\"spark.sql.catalog.spark_catalog\", \"org.apache.iceberg.spark.SparkCatalog\")\n",
    "    # # conf.set(\"spark.sql.catalog.spark_catalog.type\", \"hadoop\")\n",
    "    # conf.set(\"spark.sql.catalog.spark_catalog.warehouse\", f\"hdfs:///user/abob/warehouse\")\n",
    "    # conf.set(\"spark.sql.catalog.spark_catalog.io-impl\", \"org.apache.iceberg.hadoop.HadoopFileIO\")\n",
    "\n",
    "    return conf"
   ]
  },
  {
   "cell_type": "code",
   "execution_count": 12,
   "id": "0aa56d0a-dd4d-4bfe-9fcb-f92f3f237cdd",
   "metadata": {},
   "outputs": [],
   "source": [
    "configuration = create_spark_configuration()"
   ]
  },
  {
   "cell_type": "code",
   "execution_count": 13,
   "id": "1cb1a41f-ac46-4147-b28c-ad79b0765974",
   "metadata": {},
   "outputs": [],
   "source": [
    "spark = SparkSession.builder.config(conf=configuration).getOrCreate()"
   ]
  },
  {
   "cell_type": "code",
   "execution_count": 15,
   "id": "900715bb-8b1f-4138-aa49-fcaeff65a581",
   "metadata": {},
   "outputs": [],
   "source": [
    "df = spark.read.format(\"csv\").option(\"header\", \"true\").load(\"practice-2/data/cars.csv\")"
   ]
  },
  {
   "cell_type": "code",
   "execution_count": 1,
   "id": "4c3d9c31-ffd8-44e8-8cbd-46d6eeab294f",
   "metadata": {},
   "outputs": [
    {
     "ename": "NameError",
     "evalue": "name 'pyspark' is not defined",
     "output_type": "error",
     "traceback": [
      "\u001b[0;31m---------------------------------------------------------------------------\u001b[0m",
      "\u001b[0;31mNameError\u001b[0m                                 Traceback (most recent call last)",
      "Cell \u001b[0;32mIn[1], line 1\u001b[0m\n\u001b[0;32m----> 1\u001b[0m \u001b[43mpyspark\u001b[49m\n",
      "\u001b[0;31mNameError\u001b[0m: name 'pyspark' is not defined"
     ]
    }
   ],
   "source": [
    "def get_spark_session() -> SparkSession:\n",
    "    builder: SparkSession.Builder = SparkSession.builder.appName(\"PCM-Abacus\").master('local')\n",
    "    builder = (\n",
    "        builder.config(\"spark.driver.host\", 'localhost')\n",
    "        .config(\"spark.executor.cores\", SPARK_CORES)\n",
    "        .config(\"spark.executor.memory\", EXECUTOR_MEMORY)\n",
    "        .config(\"spark.driver.memory\", SPARK_MEMORY)\n",
    "        .config(\"spark.cleaner.referenceTracking.cleanCheckpoints\", True)\n",
    "    )\n",
    "    if SPARK_EXTRA_JARS:\n",
    "        builder = builder.config('spark.jars', f\"{PROJECT_ROOT}/jars/postgresql-42.5.4.jar\")\n",
    "    return builder.getOrCreate()"
   ]
  }
 ],
 "metadata": {
  "kernelspec": {
   "display_name": "Python 3 (ipykernel)",
   "language": "python",
   "name": "python3"
  },
  "language_info": {
   "codemirror_mode": {
    "name": "ipython",
    "version": 3
   },
   "file_extension": ".py",
   "mimetype": "text/x-python",
   "name": "python",
   "nbconvert_exporter": "python",
   "pygments_lexer": "ipython3",
   "version": "3.11.6"
  }
 },
 "nbformat": 4,
 "nbformat_minor": 5
}
